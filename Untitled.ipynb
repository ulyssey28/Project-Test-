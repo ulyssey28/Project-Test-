{
 "cells": [
  {
   "cell_type": "code",
   "execution_count": 1,
   "metadata": {},
   "outputs": [],
   "source": [
    "# Dependencies\n",
    "from bs4 import BeautifulSoup\n",
    "import requests\n",
    "from splinter import Browser\n",
    "import time\n",
    "import pandas as pd"
   ]
  },
  {
   "cell_type": "code",
   "execution_count": null,
   "metadata": {},
   "outputs": [],
   "source": []
  },
  {
   "cell_type": "code",
   "execution_count": 2,
   "metadata": {},
   "outputs": [],
   "source": [
    "executable_path = {'executable_path': 'chromedriver'}\n",
    "browser = Browser('chrome', **executable_path, headless=False)"
   ]
  },
  {
   "cell_type": "code",
   "execution_count": null,
   "metadata": {},
   "outputs": [],
   "source": []
  },
  {
   "cell_type": "code",
   "execution_count": 6,
   "metadata": {},
   "outputs": [],
   "source": [
    "# URL of page to be scraped\n",
    "url = 'https://www.usich.gov/tools-for-action/map/#fn[]=1400&fn[]=2900&fn[]=6000&fn[]=9900&fn[]=13500'\n",
    "\n",
    "# using the .visit() method tell the browser to visit the url\n",
    "browser.visit(url)\n",
    "\n",
    "#sleep code to allow browser page to load\n",
    "time.sleep(5)\n",
    "\n",
    "#obtain the page html using the .html attribute of the browser object\n",
    "html = browser.html\n",
    "\n",
    "# Create BeautifulSoup object; parse with 'html.parser'\n",
    "soup = BeautifulSoup(html, 'html.parser')"
   ]
  },
  {
   "cell_type": "code",
   "execution_count": null,
   "metadata": {},
   "outputs": [],
   "source": []
  },
  {
   "cell_type": "code",
   "execution_count": 31,
   "metadata": {},
   "outputs": [],
   "source": [
    "#Collect the latest News Title and Paragraph Text. \n",
    "#Note the find method gets the \"ul\" tag with id = \"stats\", corresponding to homeless stats sections of the html\n",
    "stats_tag =  soup.find(\"ul\", id=\"stats\")\n",
    "\n",
    "# create a list of <li>'s within the stats list\n",
    "stats_list = stats_tag.find_all(\"li\")\n",
    "\n",
    "#create a list to hold the dictionaries we will use to construct a pandas dataframe.\n",
    "homeless_data = []\n",
    "\n",
    "#Create an empty dictionary which we will use to create key-value pairs using the <span> text and the <p> text\n",
    "stats_dict = {} \n",
    "\n",
    "\"\"\" Create a beautiful soup object for the <ul> tag that has id = \"selectMenuBox\"\n",
    "Note this object also refers to the dropdown menu which contains a list of states with links to different pages\n",
    "with data pertaining to the particular state. \"\"\"\n",
    "\n",
    "state_menu_tag =  soup.find(\"ul\", id=\"selectMenuBox\")\n",
    "\n",
    "#Create a list for all the <li> tag contained within the <ul> tag\n",
    "states_tag_list = state_menu_tag.find_all(\"li\")\n",
    "\n",
    "#Based on the list of <li> tags create a list of the 'href's with link to the approriate state pages\n",
    "href_list = [li.a['href'] for li in states_tag_list]\n",
    "    \n",
    "states = [i.a.text for i in states_tag_list]\n",
    "\n",
    "\n",
    "\n",
    "for x in range(len(states)):\n",
    "    \n",
    "#Click on the dropdown menu by referencing the <ul> id\n",
    "    browser.click_link_by_id('selectBox')\n",
    "    time.sleep(1)\n",
    "    \n",
    "    browser.click_link_by_partial_href(href_list[x])\n",
    "    time.sleep(5)\n",
    "    \n",
    "    #obtain the page html using the .html attribute of the browser object\n",
    "    html = browser.html\n",
    "\n",
    "    # Create BeautifulSoup object; parse with 'html.parser'\n",
    "    soup = BeautifulSoup(html, 'html.parser')\n",
    "    \n",
    "    for i in stats_list:\n",
    "        stats_dict[i.span.text] = i.p.text\n",
    "    homeless_data.append(stats_dict)\n",
    "    \n",
    "\n",
    "\n",
    "    \n",
    "    \n",
    "    \n",
    "    \n",
    "# browser.click_link_by_partial_href('/homelessness-statistics/ca')\n",
    "# news_title = news_title_tag.text\n",
    "\n",
    "# news_path = news_title_tag.a[\"href\"]\n",
    "# news_link = \"https://mars.nasa.gov\"+ news_path\n",
    "\n",
    "# news_paragraph_tag = soup.find(\"div\", class_=\"article_teaser_body\")\n",
    "# news_paragraph = news_paragraph_tag.text"
   ]
  },
  {
   "cell_type": "code",
   "execution_count": null,
   "metadata": {},
   "outputs": [],
   "source": []
  },
  {
   "cell_type": "code",
   "execution_count": null,
   "metadata": {},
   "outputs": [],
   "source": []
  },
  {
   "cell_type": "code",
   "execution_count": null,
   "metadata": {},
   "outputs": [],
   "source": [
    "# Homeless_df.append({\"test\" : \" \"})"
   ]
  },
  {
   "cell_type": "code",
   "execution_count": null,
   "metadata": {},
   "outputs": [],
   "source": [
    "pd.DataFrame({\"tets\":[1, 2, 3, 4, 5, 6]})"
   ]
  },
  {
   "cell_type": "code",
   "execution_count": null,
   "metadata": {},
   "outputs": [],
   "source": [
    "homeless_data"
   ]
  },
  {
   "cell_type": "code",
   "execution_count": null,
   "metadata": {},
   "outputs": [],
   "source": [
    "pd.DataFrame(homeless_data)"
   ]
  },
  {
   "cell_type": "code",
   "execution_count": null,
   "metadata": {},
   "outputs": [],
   "source": []
  },
  {
   "cell_type": "code",
   "execution_count": 32,
   "metadata": {},
   "outputs": [
    {
     "data": {
      "text/plain": [
       "['/homelessness-statistics/al',\n",
       " '/homelessness-statistics/ak',\n",
       " '/homelessness-statistics/az',\n",
       " '/homelessness-statistics/ar',\n",
       " '/homelessness-statistics/ca',\n",
       " '/homelessness-statistics/co',\n",
       " '/homelessness-statistics/ct',\n",
       " '/homelessness-statistics/de',\n",
       " '/homelessness-statistics/dc',\n",
       " '/homelessness-statistics/fl',\n",
       " '/homelessness-statistics/ga',\n",
       " '/homelessness-statistics/gu',\n",
       " '/homelessness-statistics/hi',\n",
       " '/homelessness-statistics/id',\n",
       " '/homelessness-statistics/il',\n",
       " '/homelessness-statistics/in',\n",
       " '/homelessness-statistics/ia',\n",
       " '/homelessness-statistics/ks',\n",
       " '/homelessness-statistics/ky',\n",
       " '/homelessness-statistics/la',\n",
       " '/homelessness-statistics/me',\n",
       " '/homelessness-statistics/md',\n",
       " '/homelessness-statistics/ma',\n",
       " '/homelessness-statistics/mi',\n",
       " '/homelessness-statistics/mn',\n",
       " '/homelessness-statistics/ms',\n",
       " '/homelessness-statistics/mo',\n",
       " '/homelessness-statistics/mt',\n",
       " '/homelessness-statistics/ne',\n",
       " '/homelessness-statistics/nv',\n",
       " '/homelessness-statistics/nh',\n",
       " '/homelessness-statistics/nj',\n",
       " '/homelessness-statistics/nm',\n",
       " '/homelessness-statistics/ny',\n",
       " '/homelessness-statistics/nc',\n",
       " '/homelessness-statistics/nd',\n",
       " '/homelessness-statistics/oh',\n",
       " '/homelessness-statistics/ok',\n",
       " '/homelessness-statistics/or',\n",
       " '/homelessness-statistics/pa',\n",
       " '/homelessness-statistics/pr',\n",
       " '/homelessness-statistics/ri',\n",
       " '/homelessness-statistics/sc',\n",
       " '/homelessness-statistics/sd',\n",
       " '/homelessness-statistics/tn',\n",
       " '/homelessness-statistics/tx',\n",
       " '/homelessness-statistics/ut',\n",
       " '/homelessness-statistics/vt',\n",
       " '/homelessness-statistics/vi',\n",
       " '/homelessness-statistics/va',\n",
       " '/homelessness-statistics/wa',\n",
       " '/homelessness-statistics/wv',\n",
       " '/homelessness-statistics/wi',\n",
       " '/homelessness-statistics/wy']"
      ]
     },
     "execution_count": 32,
     "metadata": {},
     "output_type": "execute_result"
    }
   ],
   "source": [
    "href_list"
   ]
  },
  {
   "cell_type": "code",
   "execution_count": null,
   "metadata": {},
   "outputs": [],
   "source": []
  },
  {
   "cell_type": "code",
   "execution_count": null,
   "metadata": {},
   "outputs": [],
   "source": []
  },
  {
   "cell_type": "code",
   "execution_count": null,
   "metadata": {},
   "outputs": [],
   "source": []
  },
  {
   "cell_type": "code",
   "execution_count": null,
   "metadata": {},
   "outputs": [],
   "source": [
    "state_menu_tag.find(\"li\").a.text"
   ]
  },
  {
   "cell_type": "code",
   "execution_count": 30,
   "metadata": {},
   "outputs": [
    {
     "data": {
      "text/plain": [
       "[<li><a class=\"selected\" href=\"/homelessness-statistics/al\">Alabama</a></li>,\n",
       " <li><a href=\"/homelessness-statistics/ak\">Alaska</a></li>,\n",
       " <li><a href=\"/homelessness-statistics/az\">Arizona</a></li>,\n",
       " <li><a href=\"/homelessness-statistics/ar\">Arkansas</a></li>,\n",
       " <li><a href=\"/homelessness-statistics/ca\">California</a></li>,\n",
       " <li><a href=\"/homelessness-statistics/co\">Colorado</a></li>,\n",
       " <li><a href=\"/homelessness-statistics/ct\">Connecticut</a></li>,\n",
       " <li><a href=\"/homelessness-statistics/de\">Delaware</a></li>,\n",
       " <li><a href=\"/homelessness-statistics/dc\">District of Columbia</a></li>,\n",
       " <li><a href=\"/homelessness-statistics/fl\">Florida</a></li>,\n",
       " <li><a href=\"/homelessness-statistics/ga\">Georgia</a></li>,\n",
       " <li><a href=\"/homelessness-statistics/gu\">Guam</a></li>,\n",
       " <li><a href=\"/homelessness-statistics/hi\">Hawaii</a></li>,\n",
       " <li><a href=\"/homelessness-statistics/id\">Idaho</a></li>,\n",
       " <li><a href=\"/homelessness-statistics/il\">Illinois</a></li>,\n",
       " <li><a href=\"/homelessness-statistics/in\">Indiana</a></li>,\n",
       " <li><a href=\"/homelessness-statistics/ia\">Iowa</a></li>,\n",
       " <li><a href=\"/homelessness-statistics/ks\">Kansas</a></li>,\n",
       " <li><a href=\"/homelessness-statistics/ky\">Kentucky</a></li>,\n",
       " <li><a href=\"/homelessness-statistics/la\">Louisiana</a></li>,\n",
       " <li><a href=\"/homelessness-statistics/me\">Maine</a></li>,\n",
       " <li><a href=\"/homelessness-statistics/md\">Maryland</a></li>,\n",
       " <li><a href=\"/homelessness-statistics/ma\">Massachusetts</a></li>,\n",
       " <li><a href=\"/homelessness-statistics/mi\">Michigan</a></li>,\n",
       " <li><a href=\"/homelessness-statistics/mn\">Minnesota</a></li>,\n",
       " <li><a href=\"/homelessness-statistics/ms\">Mississippi</a></li>,\n",
       " <li><a href=\"/homelessness-statistics/mo\">Missouri</a></li>,\n",
       " <li><a href=\"/homelessness-statistics/mt\">Montana</a></li>,\n",
       " <li><a href=\"/homelessness-statistics/ne\">Nebraska</a></li>,\n",
       " <li><a href=\"/homelessness-statistics/nv\">Nevada</a></li>,\n",
       " <li><a href=\"/homelessness-statistics/nh\">New Hampshire</a></li>,\n",
       " <li><a href=\"/homelessness-statistics/nj\">New Jersey</a></li>,\n",
       " <li><a href=\"/homelessness-statistics/nm\">New Mexico</a></li>,\n",
       " <li><a href=\"/homelessness-statistics/ny\">New York</a></li>,\n",
       " <li><a href=\"/homelessness-statistics/nc\">North Carolina</a></li>,\n",
       " <li><a href=\"/homelessness-statistics/nd\">North Dakota</a></li>,\n",
       " <li><a href=\"/homelessness-statistics/oh\">Ohio</a></li>,\n",
       " <li><a href=\"/homelessness-statistics/ok\">Oklahoma</a></li>,\n",
       " <li><a href=\"/homelessness-statistics/or\">Oregon</a></li>,\n",
       " <li><a href=\"/homelessness-statistics/pa\">Pennsylvania</a></li>,\n",
       " <li><a href=\"/homelessness-statistics/pr\">Puerto Rico</a></li>,\n",
       " <li><a href=\"/homelessness-statistics/ri\">Rhode Island</a></li>,\n",
       " <li><a href=\"/homelessness-statistics/sc\">South Carolina</a></li>,\n",
       " <li><a href=\"/homelessness-statistics/sd\">South Dakota</a></li>,\n",
       " <li><a href=\"/homelessness-statistics/tn\">Tennessee</a></li>,\n",
       " <li><a href=\"/homelessness-statistics/tx\">Texas</a></li>,\n",
       " <li><a href=\"/homelessness-statistics/ut\">Utah</a></li>,\n",
       " <li><a href=\"/homelessness-statistics/vt\">Vermont</a></li>,\n",
       " <li><a href=\"/homelessness-statistics/vi\">Virgin Islands</a></li>,\n",
       " <li><a href=\"/homelessness-statistics/va\">Virginia</a></li>,\n",
       " <li><a href=\"/homelessness-statistics/wa\">Washington</a></li>,\n",
       " <li><a href=\"/homelessness-statistics/wv\">West Virginia</a></li>,\n",
       " <li><a href=\"/homelessness-statistics/wi\">Wisconsin</a></li>,\n",
       " <li><a href=\"/homelessness-statistics/wy\">Wyoming</a></li>]"
      ]
     },
     "execution_count": 30,
     "metadata": {},
     "output_type": "execute_result"
    }
   ],
   "source": [
    "states_tag_list"
   ]
  },
  {
   "cell_type": "code",
   "execution_count": null,
   "metadata": {},
   "outputs": [],
   "source": [
    "states"
   ]
  },
  {
   "cell_type": "code",
   "execution_count": null,
   "metadata": {},
   "outputs": [],
   "source": []
  },
  {
   "cell_type": "code",
   "execution_count": null,
   "metadata": {},
   "outputs": [],
   "source": []
  },
  {
   "cell_type": "code",
   "execution_count": 26,
   "metadata": {},
   "outputs": [],
   "source": [
    "browser.click_link_by_id('selectBox')"
   ]
  },
  {
   "cell_type": "code",
   "execution_count": 27,
   "metadata": {},
   "outputs": [],
   "source": [
    "browser.click_link_by_partial_href('/homelessness-statistics/fl')"
   ]
  },
  {
   "cell_type": "code",
   "execution_count": 7,
   "metadata": {},
   "outputs": [
    {
     "ename": "ElementNotVisibleException",
     "evalue": "Message: element not interactable\n  (Session info: chrome=74.0.3729.131)\n  (Driver info: chromedriver=74.0.3729.6 (255758eccf3d244491b8a1317aa76e1ce10d57e9-refs/branch-heads/3729@{#29}),platform=Windows NT 10.0.17134 x86_64)\n",
     "output_type": "error",
     "traceback": [
      "\u001b[1;31m---------------------------------------------------------------------------\u001b[0m",
      "\u001b[1;31mElementNotVisibleException\u001b[0m                Traceback (most recent call last)",
      "\u001b[1;32m<ipython-input-7-4a20b3c035ef>\u001b[0m in \u001b[0;36m<module>\u001b[1;34m\u001b[0m\n\u001b[1;32m----> 1\u001b[1;33m \u001b[0mbrowser\u001b[0m\u001b[1;33m.\u001b[0m\u001b[0mclick_link_by_text\u001b[0m\u001b[1;33m(\u001b[0m\u001b[1;34m'Alabama'\u001b[0m\u001b[1;33m)\u001b[0m\u001b[1;33m\u001b[0m\u001b[1;33m\u001b[0m\u001b[0m\n\u001b[0m\u001b[0;32m      2\u001b[0m \u001b[0mtime\u001b[0m\u001b[1;33m.\u001b[0m\u001b[0msleep\u001b[0m\u001b[1;33m(\u001b[0m\u001b[1;36m5\u001b[0m\u001b[1;33m)\u001b[0m\u001b[1;33m\u001b[0m\u001b[1;33m\u001b[0m\u001b[0m\n\u001b[0;32m      3\u001b[0m \u001b[0mbrowser\u001b[0m\u001b[1;33m.\u001b[0m\u001b[0mclick_link_by_text\u001b[0m\u001b[1;33m(\u001b[0m\u001b[1;34m'Texas'\u001b[0m\u001b[1;33m)\u001b[0m\u001b[1;33m\u001b[0m\u001b[1;33m\u001b[0m\u001b[0m\n",
      "\u001b[1;32m~\\Anaconda3\\lib\\site-packages\\splinter\\driver\\__init__.py\u001b[0m in \u001b[0;36mclick_link_by_text\u001b[1;34m(self, text)\u001b[0m\n\u001b[0;32m    388\u001b[0m         \u001b[0mClicks\u001b[0m \u001b[1;32min\u001b[0m \u001b[0ma\u001b[0m \u001b[0mlink\u001b[0m \u001b[0mby\u001b[0m \u001b[0mits\u001b[0m\u001b[0;31m \u001b[0m\u001b[0;31m`\u001b[0m\u001b[0;31m`\u001b[0m\u001b[0mtext\u001b[0m\u001b[0;31m`\u001b[0m\u001b[0;31m`\u001b[0m\u001b[1;33m.\u001b[0m\u001b[1;33m\u001b[0m\u001b[1;33m\u001b[0m\u001b[0m\n\u001b[0;32m    389\u001b[0m         \"\"\"\n\u001b[1;32m--> 390\u001b[1;33m         \u001b[1;32mreturn\u001b[0m \u001b[0mself\u001b[0m\u001b[1;33m.\u001b[0m\u001b[0mfind_link_by_text\u001b[0m\u001b[1;33m(\u001b[0m\u001b[0mtext\u001b[0m\u001b[1;33m)\u001b[0m\u001b[1;33m.\u001b[0m\u001b[0mfirst\u001b[0m\u001b[1;33m.\u001b[0m\u001b[0mclick\u001b[0m\u001b[1;33m(\u001b[0m\u001b[1;33m)\u001b[0m\u001b[1;33m\u001b[0m\u001b[1;33m\u001b[0m\u001b[0m\n\u001b[0m\u001b[0;32m    391\u001b[0m \u001b[1;33m\u001b[0m\u001b[0m\n\u001b[0;32m    392\u001b[0m     \u001b[1;32mdef\u001b[0m \u001b[0mclick_link_by_partial_text\u001b[0m\u001b[1;33m(\u001b[0m\u001b[0mself\u001b[0m\u001b[1;33m,\u001b[0m \u001b[0mpartial_text\u001b[0m\u001b[1;33m)\u001b[0m\u001b[1;33m:\u001b[0m\u001b[1;33m\u001b[0m\u001b[1;33m\u001b[0m\u001b[0m\n",
      "\u001b[1;32m~\\Anaconda3\\lib\\site-packages\\splinter\\driver\\webdriver\\__init__.py\u001b[0m in \u001b[0;36mclick\u001b[1;34m(self)\u001b[0m\n\u001b[0;32m    632\u001b[0m \u001b[1;33m\u001b[0m\u001b[0m\n\u001b[0;32m    633\u001b[0m     \u001b[1;32mdef\u001b[0m \u001b[0mclick\u001b[0m\u001b[1;33m(\u001b[0m\u001b[0mself\u001b[0m\u001b[1;33m)\u001b[0m\u001b[1;33m:\u001b[0m\u001b[1;33m\u001b[0m\u001b[1;33m\u001b[0m\u001b[0m\n\u001b[1;32m--> 634\u001b[1;33m         \u001b[0mself\u001b[0m\u001b[1;33m.\u001b[0m\u001b[0m_element\u001b[0m\u001b[1;33m.\u001b[0m\u001b[0mclick\u001b[0m\u001b[1;33m(\u001b[0m\u001b[1;33m)\u001b[0m\u001b[1;33m\u001b[0m\u001b[1;33m\u001b[0m\u001b[0m\n\u001b[0m\u001b[0;32m    635\u001b[0m \u001b[1;33m\u001b[0m\u001b[0m\n\u001b[0;32m    636\u001b[0m     \u001b[1;32mdef\u001b[0m \u001b[0mcheck\u001b[0m\u001b[1;33m(\u001b[0m\u001b[0mself\u001b[0m\u001b[1;33m)\u001b[0m\u001b[1;33m:\u001b[0m\u001b[1;33m\u001b[0m\u001b[1;33m\u001b[0m\u001b[0m\n",
      "\u001b[1;32m~\\Anaconda3\\lib\\site-packages\\selenium\\webdriver\\remote\\webelement.py\u001b[0m in \u001b[0;36mclick\u001b[1;34m(self)\u001b[0m\n\u001b[0;32m     78\u001b[0m     \u001b[1;32mdef\u001b[0m \u001b[0mclick\u001b[0m\u001b[1;33m(\u001b[0m\u001b[0mself\u001b[0m\u001b[1;33m)\u001b[0m\u001b[1;33m:\u001b[0m\u001b[1;33m\u001b[0m\u001b[1;33m\u001b[0m\u001b[0m\n\u001b[0;32m     79\u001b[0m         \u001b[1;34m\"\"\"Clicks the element.\"\"\"\u001b[0m\u001b[1;33m\u001b[0m\u001b[1;33m\u001b[0m\u001b[0m\n\u001b[1;32m---> 80\u001b[1;33m         \u001b[0mself\u001b[0m\u001b[1;33m.\u001b[0m\u001b[0m_execute\u001b[0m\u001b[1;33m(\u001b[0m\u001b[0mCommand\u001b[0m\u001b[1;33m.\u001b[0m\u001b[0mCLICK_ELEMENT\u001b[0m\u001b[1;33m)\u001b[0m\u001b[1;33m\u001b[0m\u001b[1;33m\u001b[0m\u001b[0m\n\u001b[0m\u001b[0;32m     81\u001b[0m \u001b[1;33m\u001b[0m\u001b[0m\n\u001b[0;32m     82\u001b[0m     \u001b[1;32mdef\u001b[0m \u001b[0msubmit\u001b[0m\u001b[1;33m(\u001b[0m\u001b[0mself\u001b[0m\u001b[1;33m)\u001b[0m\u001b[1;33m:\u001b[0m\u001b[1;33m\u001b[0m\u001b[1;33m\u001b[0m\u001b[0m\n",
      "\u001b[1;32m~\\Anaconda3\\lib\\site-packages\\selenium\\webdriver\\remote\\webelement.py\u001b[0m in \u001b[0;36m_execute\u001b[1;34m(self, command, params)\u001b[0m\n\u001b[0;32m    631\u001b[0m             \u001b[0mparams\u001b[0m \u001b[1;33m=\u001b[0m \u001b[1;33m{\u001b[0m\u001b[1;33m}\u001b[0m\u001b[1;33m\u001b[0m\u001b[1;33m\u001b[0m\u001b[0m\n\u001b[0;32m    632\u001b[0m         \u001b[0mparams\u001b[0m\u001b[1;33m[\u001b[0m\u001b[1;34m'id'\u001b[0m\u001b[1;33m]\u001b[0m \u001b[1;33m=\u001b[0m \u001b[0mself\u001b[0m\u001b[1;33m.\u001b[0m\u001b[0m_id\u001b[0m\u001b[1;33m\u001b[0m\u001b[1;33m\u001b[0m\u001b[0m\n\u001b[1;32m--> 633\u001b[1;33m         \u001b[1;32mreturn\u001b[0m \u001b[0mself\u001b[0m\u001b[1;33m.\u001b[0m\u001b[0m_parent\u001b[0m\u001b[1;33m.\u001b[0m\u001b[0mexecute\u001b[0m\u001b[1;33m(\u001b[0m\u001b[0mcommand\u001b[0m\u001b[1;33m,\u001b[0m \u001b[0mparams\u001b[0m\u001b[1;33m)\u001b[0m\u001b[1;33m\u001b[0m\u001b[1;33m\u001b[0m\u001b[0m\n\u001b[0m\u001b[0;32m    634\u001b[0m \u001b[1;33m\u001b[0m\u001b[0m\n\u001b[0;32m    635\u001b[0m     \u001b[1;32mdef\u001b[0m \u001b[0mfind_element\u001b[0m\u001b[1;33m(\u001b[0m\u001b[0mself\u001b[0m\u001b[1;33m,\u001b[0m \u001b[0mby\u001b[0m\u001b[1;33m=\u001b[0m\u001b[0mBy\u001b[0m\u001b[1;33m.\u001b[0m\u001b[0mID\u001b[0m\u001b[1;33m,\u001b[0m \u001b[0mvalue\u001b[0m\u001b[1;33m=\u001b[0m\u001b[1;32mNone\u001b[0m\u001b[1;33m)\u001b[0m\u001b[1;33m:\u001b[0m\u001b[1;33m\u001b[0m\u001b[1;33m\u001b[0m\u001b[0m\n",
      "\u001b[1;32m~\\Anaconda3\\lib\\site-packages\\selenium\\webdriver\\remote\\webdriver.py\u001b[0m in \u001b[0;36mexecute\u001b[1;34m(self, driver_command, params)\u001b[0m\n\u001b[0;32m    319\u001b[0m         \u001b[0mresponse\u001b[0m \u001b[1;33m=\u001b[0m \u001b[0mself\u001b[0m\u001b[1;33m.\u001b[0m\u001b[0mcommand_executor\u001b[0m\u001b[1;33m.\u001b[0m\u001b[0mexecute\u001b[0m\u001b[1;33m(\u001b[0m\u001b[0mdriver_command\u001b[0m\u001b[1;33m,\u001b[0m \u001b[0mparams\u001b[0m\u001b[1;33m)\u001b[0m\u001b[1;33m\u001b[0m\u001b[1;33m\u001b[0m\u001b[0m\n\u001b[0;32m    320\u001b[0m         \u001b[1;32mif\u001b[0m \u001b[0mresponse\u001b[0m\u001b[1;33m:\u001b[0m\u001b[1;33m\u001b[0m\u001b[1;33m\u001b[0m\u001b[0m\n\u001b[1;32m--> 321\u001b[1;33m             \u001b[0mself\u001b[0m\u001b[1;33m.\u001b[0m\u001b[0merror_handler\u001b[0m\u001b[1;33m.\u001b[0m\u001b[0mcheck_response\u001b[0m\u001b[1;33m(\u001b[0m\u001b[0mresponse\u001b[0m\u001b[1;33m)\u001b[0m\u001b[1;33m\u001b[0m\u001b[1;33m\u001b[0m\u001b[0m\n\u001b[0m\u001b[0;32m    322\u001b[0m             response['value'] = self._unwrap_value(\n\u001b[0;32m    323\u001b[0m                 response.get('value', None))\n",
      "\u001b[1;32m~\\Anaconda3\\lib\\site-packages\\selenium\\webdriver\\remote\\errorhandler.py\u001b[0m in \u001b[0;36mcheck_response\u001b[1;34m(self, response)\u001b[0m\n\u001b[0;32m    240\u001b[0m                 \u001b[0malert_text\u001b[0m \u001b[1;33m=\u001b[0m \u001b[0mvalue\u001b[0m\u001b[1;33m[\u001b[0m\u001b[1;34m'alert'\u001b[0m\u001b[1;33m]\u001b[0m\u001b[1;33m.\u001b[0m\u001b[0mget\u001b[0m\u001b[1;33m(\u001b[0m\u001b[1;34m'text'\u001b[0m\u001b[1;33m)\u001b[0m\u001b[1;33m\u001b[0m\u001b[1;33m\u001b[0m\u001b[0m\n\u001b[0;32m    241\u001b[0m             \u001b[1;32mraise\u001b[0m \u001b[0mexception_class\u001b[0m\u001b[1;33m(\u001b[0m\u001b[0mmessage\u001b[0m\u001b[1;33m,\u001b[0m \u001b[0mscreen\u001b[0m\u001b[1;33m,\u001b[0m \u001b[0mstacktrace\u001b[0m\u001b[1;33m,\u001b[0m \u001b[0malert_text\u001b[0m\u001b[1;33m)\u001b[0m\u001b[1;33m\u001b[0m\u001b[1;33m\u001b[0m\u001b[0m\n\u001b[1;32m--> 242\u001b[1;33m         \u001b[1;32mraise\u001b[0m \u001b[0mexception_class\u001b[0m\u001b[1;33m(\u001b[0m\u001b[0mmessage\u001b[0m\u001b[1;33m,\u001b[0m \u001b[0mscreen\u001b[0m\u001b[1;33m,\u001b[0m \u001b[0mstacktrace\u001b[0m\u001b[1;33m)\u001b[0m\u001b[1;33m\u001b[0m\u001b[1;33m\u001b[0m\u001b[0m\n\u001b[0m\u001b[0;32m    243\u001b[0m \u001b[1;33m\u001b[0m\u001b[0m\n\u001b[0;32m    244\u001b[0m     \u001b[1;32mdef\u001b[0m \u001b[0m_value_or_default\u001b[0m\u001b[1;33m(\u001b[0m\u001b[0mself\u001b[0m\u001b[1;33m,\u001b[0m \u001b[0mobj\u001b[0m\u001b[1;33m,\u001b[0m \u001b[0mkey\u001b[0m\u001b[1;33m,\u001b[0m \u001b[0mdefault\u001b[0m\u001b[1;33m)\u001b[0m\u001b[1;33m:\u001b[0m\u001b[1;33m\u001b[0m\u001b[1;33m\u001b[0m\u001b[0m\n",
      "\u001b[1;31mElementNotVisibleException\u001b[0m: Message: element not interactable\n  (Session info: chrome=74.0.3729.131)\n  (Driver info: chromedriver=74.0.3729.6 (255758eccf3d244491b8a1317aa76e1ce10d57e9-refs/branch-heads/3729@{#29}),platform=Windows NT 10.0.17134 x86_64)\n"
     ]
    }
   ],
   "source": [
    "browser.click_link_by_text('Alabama')\n",
    "# time.sleep(5)\n",
    "# browser.click_link_by_text('Texas')"
   ]
  },
  {
   "cell_type": "code",
   "execution_count": null,
   "metadata": {},
   "outputs": [],
   "source": [
    "<a href=\"/homelessness-statistics/al\" class=\"selected\">Alabama</a>"
   ]
  }
 ],
 "metadata": {
  "kernelspec": {
   "display_name": "Python 3",
   "language": "python",
   "name": "python3"
  },
  "language_info": {
   "codemirror_mode": {
    "name": "ipython",
    "version": 3
   },
   "file_extension": ".py",
   "mimetype": "text/x-python",
   "name": "python",
   "nbconvert_exporter": "python",
   "pygments_lexer": "ipython3",
   "version": "3.7.1"
  }
 },
 "nbformat": 4,
 "nbformat_minor": 2
}
